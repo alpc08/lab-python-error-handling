{
 "cells": [
  {
   "cell_type": "markdown",
   "id": "25d7736c-ba17-4aff-b6bb-66eba20fbf4e",
   "metadata": {},
   "source": [
    "# Lab | Error Handling"
   ]
  },
  {
   "cell_type": "markdown",
   "id": "bc99b386-7508-47a0-bcdb-d969deaf6c8b",
   "metadata": {},
   "source": [
    "## Exercise: Error Handling for Managing Customer Orders\n",
    "\n",
    "The implementation of your code for managing customer orders assumes that the user will always enter a valid input. \n",
    "\n",
    "For example, we could modify the `initialize_inventory` function to include error handling.\n",
    "   - If the user enters an invalid quantity (e.g., a negative value or a non-numeric value), display an error message and ask them to re-enter the quantity for that product.\n",
    "   - Use a try-except block to handle the error and continue prompting the user until a valid quantity is entered.\n",
    "\n",
    "```python\n",
    "# Step 1: Define the function for initializing the inventory with error handling\n",
    "def initialize_inventory(products):\n",
    "    inventory = {}\n",
    "    for product in products:\n",
    "        valid_quantity = False\n",
    "        while not valid_quantity:\n",
    "            try:\n",
    "                quantity = int(input(f\"Enter the quantity of {product}s available: \"))\n",
    "                if quantity < 0:\n",
    "                    raise ValueError(\"Invalid quantity! Please enter a non-negative value.\")\n",
    "                valid_quantity = True\n",
    "            except ValueError as error:\n",
    "                print(f\"Error: {error}\")\n",
    "        inventory[product] = quantity\n",
    "    return inventory\n",
    "\n",
    "# Or, in another way:\n",
    "\n",
    "def initialize_inventory(products):\n",
    "    inventory = {}\n",
    "    for product in products:\n",
    "        valid_input = False\n",
    "        while not valid_input:\n",
    "            try:\n",
    "                quantity = int(input(f\"Enter the quantity of {product}s available: \"))\n",
    "                if quantity >= 0:\n",
    "                    inventory[product] = quantity\n",
    "                    valid_input = True\n",
    "                else:\n",
    "                    print(\"Quantity cannot be negative. Please enter a valid quantity.\")\n",
    "            except ValueError:\n",
    "                print(\"Invalid input. Please enter a valid quantity.\")\n",
    "    return inventory\n",
    "```\n",
    "\n",
    "Let's enhance your code by implementing error handling to handle invalid inputs.\n",
    "\n",
    "Follow the steps below to complete the exercise:\n",
    "\n",
    "2. Modify the `calculate_total_price` function to include error handling.\n",
    "   - If the user enters an invalid price (e.g., a negative value or a non-numeric value), display an error message and ask them to re-enter the price for that product.\n",
    "   - Use a try-except block to handle the error and continue prompting the user until a valid price is entered.\n",
    "\n",
    "3. Modify the `get_customer_orders` function to include error handling.\n",
    "   - If the user enters an invalid number of orders (e.g., a negative value or a non-numeric value), display an error message and ask them to re-enter the number of orders.\n",
    "   - If the user enters an invalid product name (e.g., a product name that is not in the inventory), or that doesn't have stock available, display an error message and ask them to re-enter the product name. *Hint: you will need to pass inventory as a parameter*\n",
    "   - Use a try-except block to handle the error and continue prompting the user until a valid product name is entered.\n",
    "\n",
    "4. Test your code by running the program and deliberately entering invalid quantities and product names. Make sure the error handling mechanism works as expected.\n"
   ]
  },
  {
   "cell_type": "markdown",
   "id": "6f298ba6-6534-408a-9256-5c9b08187b9b",
   "metadata": {},
   "source": [
    "### Couldn't find a way to include the names and stocks... =("
   ]
  },
  {
   "cell_type": "code",
   "execution_count": 41,
   "id": "63d5ed23-8498-4468-b56d-f2b2ebc15354",
   "metadata": {},
   "outputs": [],
   "source": [
    "def get_customer_orders():\n",
    "    global customer_orders\n",
    "    valid_input = False     \n",
    "    while not valid_input:\n",
    "        try:\n",
    "            customer = int(input(\"Enter the number of customer orders: \"))\n",
    "            if customer > 0:\n",
    "                while customer > 0:\n",
    "                    order = input(\"Enter the name of a product that a customer wants to order: \")                        \n",
    "                    {customer_orders.add(order) for product in inventory}\n",
    "                    customer -=1 \n",
    "                    valid_input = True                        \n",
    "            else:\n",
    "                print(\"Quantity cannot be negative. Please enter a valid quantity.\")\n",
    "        except ValueError:\n",
    "            print(\"Invalid input. Please enter a valid quantity.\")            "
   ]
  },
  {
   "cell_type": "code",
   "execution_count": 43,
   "id": "bd4a1b5a-9908-473c-b1d6-4be5a605794a",
   "metadata": {},
   "outputs": [
    {
     "name": "stdin",
     "output_type": "stream",
     "text": [
      "Do you want to insert your stock?  yes\n",
      "Enter the quantity of t-shirt available:  3\n",
      "Enter the quantity of mug available:  1\n",
      "Enter the quantity of hat available:  1\n",
      "Enter the quantity of book available:  1\n",
      "Enter the quantity of keychain available:  3\n",
      "Enter the number of customer orders:  3\n",
      "Enter the name of a product that a customer wants to order:  mug\n",
      "Enter the name of a product that a customer wants to order:  hat\n",
      "Enter the name of a product that a customer wants to order:  book\n"
     ]
    },
    {
     "name": "stdout",
     "output_type": "stream",
     "text": [
      "Order Statistics:  \n",
      "Total Products Ordered: 3 \n",
      "Percentage of Unique Products Ordered:: 60.0%\n",
      "t-shirt 3\n",
      "keychain 3\n"
     ]
    },
    {
     "name": "stdin",
     "output_type": "stream",
     "text": [
      "Enter the price of book:  24,50\n"
     ]
    },
    {
     "name": "stdout",
     "output_type": "stream",
     "text": [
      "Invalid input. Please enter a valid price, using only numbers.\n"
     ]
    },
    {
     "name": "stdin",
     "output_type": "stream",
     "text": [
      "Enter the price of book:  24.50\n",
      "Enter the price of hat:  19,50\n"
     ]
    },
    {
     "name": "stdout",
     "output_type": "stream",
     "text": [
      "Invalid input. Please enter a valid price, using only numbers.\n"
     ]
    },
    {
     "name": "stdin",
     "output_type": "stream",
     "text": [
      "Enter the price of hat:  19.50\n",
      "Enter the price of mug:  30.00\n"
     ]
    },
    {
     "name": "stdout",
     "output_type": "stream",
     "text": [
      "Total Price:  74.0\n"
     ]
    }
   ],
   "source": [
    "products = [\"t-shirt\", \"mug\", \"hat\", \"book\", \"keychain\"]\n",
    "inventory = {}\n",
    "customer_orders = set()\n",
    "price = set()\n",
    "totalprice = 0\n",
    "\n",
    "\n",
    "def initialize_inventory(products):\n",
    "    global inventory    \n",
    "    for product in products:\n",
    "        valid_input = False\n",
    "        while not valid_input:\n",
    "            try:\n",
    "                quantity = int(input(f\"Enter the quantity of {product} available: \")) \n",
    "                if quantity >= 0:\n",
    "                    inventory[product] = quantity\n",
    "                    valid_input = True\n",
    "                else:\n",
    "                    print(\"Quantity cannot be negative. Please enter a valid quantity.\")\n",
    "            except ValueError:\n",
    "                print(\"Invalid input. Please enter a valid quantity.\")\n",
    "    return inventory\n",
    "\n",
    "def calculate_total_price():\n",
    "    global price\n",
    "    global totalprice\n",
    "    for product in customer_orders:\n",
    "        valid_input = False\n",
    "        while not valid_input:\n",
    "            try:\n",
    "                price_input = float(input(f\"Enter the price of {product}: \"))\n",
    "                if price_input > 0:\n",
    "                    price.add(price_input)\n",
    "                    valid_input = True\n",
    "                else:\n",
    "                    print(\"The price cannot be negative. Please enter a valid price.\")\n",
    "            except ValueError:\n",
    "                print(\"Invalid input. Please enter a valid price, using only numbers.\")\n",
    "    totalprice = sum([value for value in price])\n",
    "    return totalprice\n",
    "\n",
    "def update_inventory(customer_orders):\n",
    "    for product in customer_orders:    \n",
    "        inventory[product] -=1\n",
    "    {product: print(product, value) for product , value in inventory.items() if inventory[product] >= 1}\n",
    "    return inventory\n",
    "    \n",
    "def calculate_order_statistics(customer_orders):\n",
    "    total_products_ordered = len(customer_orders)\n",
    "    percentage_ordered = total_products_ordered/len(inventory)*100\n",
    "    print(f\"Order Statistics:  \\nTotal Products Ordered: {total_products_ordered} \\nPercentage of Unique Products Ordered:: {percentage_ordered}%\")\n",
    "\n",
    "\n",
    "    \n",
    "user = input(f\"Do you want to insert your stock? \")\n",
    "if user == \"yes\":\n",
    "    initialize_inventory(products)\n",
    "    get_customer_orders()\n",
    "    calculate_order_statistics(customer_orders)\n",
    "    update_inventory(customer_orders)\n",
    "    calculate_total_price()\n",
    "    print(\"Total Price: \", float(totalprice))\n",
    "    \n",
    "    \n",
    "else: print(\"See you soon\")"
   ]
  },
  {
   "cell_type": "code",
   "execution_count": null,
   "id": "ea901db9-307a-4df5-a4d1-d6dca289d1c8",
   "metadata": {},
   "outputs": [],
   "source": []
  }
 ],
 "metadata": {
  "kernelspec": {
   "display_name": "Python 3 (ipykernel)",
   "language": "python",
   "name": "python3"
  },
  "language_info": {
   "codemirror_mode": {
    "name": "ipython",
    "version": 3
   },
   "file_extension": ".py",
   "mimetype": "text/x-python",
   "name": "python",
   "nbconvert_exporter": "python",
   "pygments_lexer": "ipython3",
   "version": "3.11.5"
  }
 },
 "nbformat": 4,
 "nbformat_minor": 5
}
